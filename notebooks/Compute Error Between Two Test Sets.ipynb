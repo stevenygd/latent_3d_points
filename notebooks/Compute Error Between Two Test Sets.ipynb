{
 "cells": [
  {
   "cell_type": "code",
   "execution_count": 1,
   "metadata": {},
   "outputs": [],
   "source": [
    "%matplotlib inline\n",
    "%load_ext autoreload\n",
    "%autoreload 2\n",
    "import sys\n",
    "sys.path.insert(0, \"/home/gy46/\")"
   ]
  },
  {
   "cell_type": "code",
   "execution_count": 2,
   "metadata": {},
   "outputs": [],
   "source": [
    "import numpy as np\n",
    "import os.path as osp\n",
    "\n",
    "from latent_3d_points.src.evaluation_metrics import minimum_mathing_distance, \\\n",
    "jsd_between_point_cloud_sets, coverage\n",
    "\n",
    "from latent_3d_points.src.in_out import snc_category_to_synth_id,\\\n",
    "                                        load_all_point_clouds_under_folder"
   ]
  },
  {
   "cell_type": "code",
   "execution_count": 16,
   "metadata": {},
   "outputs": [
    {
     "name": "stdout",
     "output_type": "stream",
     "text": [
      "Give me the class name (e.g. \"chair\"): chair\n",
      "662 pclouds were loaded. They belong in 1 shape-classes.\n"
     ]
    }
   ],
   "source": [
    "# top_in_dir = '../data/shape_net_core_uniform_samples_2048/' # Top-dir of where point-clouds are stored.\n",
    "# top_in_dir = '../data/ShapeNetV1PCOutput/' # Top-dir of where point-clouds are stored.\n",
    "top_in_dir = '../data/ShapeNetCore.v2.PC15k/'\n",
    "class_name = raw_input('Give me the class name (e.g. \"chair\"): ').lower()\n",
    "syn_id = snc_category_to_synth_id()[class_name]\n",
    "class_dir = osp.join(top_in_dir , syn_id, 'val')\n",
    "normalize_shape=True\n",
    "# all_pc_data = load_all_point_clouds_under_folder(class_dir, n_threads=8, file_ending='.ply', verbose=True)\n",
    "all_pc_data = load_all_point_clouds_under_folder(\n",
    "    class_dir, n_threads=8, file_ending='.npy', verbose=True, normalize=normalize_shape)"
   ]
  },
  {
   "cell_type": "code",
   "execution_count": 17,
   "metadata": {},
   "outputs": [
    {
     "name": "stdout",
     "output_type": "stream",
     "text": [
      "662\n"
     ]
    }
   ],
   "source": [
    "# n_ref = 100 # size of ref_pcs.\n",
    "# n_sam = 150 # size of sample_pcs.\n",
    "all_ids = np.arange(all_pc_data.num_examples)\n",
    "print(len(all_ids))\n",
    "ref_ids = np.random.choice(all_ids, len(all_ids), replace=False)\n",
    "sam_ids = np.random.choice(all_ids, len(all_ids), replace=False)\n",
    "\n",
    "ref_pcs = all_pc_data.point_clouds[ref_ids][:,10000:12048,:]\n",
    "sample_pcs = all_pc_data.point_clouds[sam_ids][:,12048:14096,:]"
   ]
  },
  {
   "cell_type": "code",
   "execution_count": 18,
   "metadata": {},
   "outputs": [
    {
     "data": {
      "text/plain": [
       "(662, 15000, 3)"
      ]
     },
     "execution_count": 18,
     "metadata": {},
     "output_type": "execute_result"
    }
   ],
   "source": [
    " all_pc_data.point_clouds.shape"
   ]
  },
  {
   "cell_type": "code",
   "execution_count": 19,
   "metadata": {},
   "outputs": [
    {
     "data": {
      "text/plain": [
       "((662, 2048, 3), (662, 2048, 3))"
      ]
     },
     "execution_count": 19,
     "metadata": {},
     "output_type": "execute_result"
    }
   ],
   "source": [
    "ref_pcs.shape, sample_pcs.shape"
   ]
  },
  {
   "cell_type": "code",
   "execution_count": 20,
   "metadata": {},
   "outputs": [
    {
     "data": {
      "text/plain": [
       "'chair'"
      ]
     },
     "execution_count": 20,
     "metadata": {},
     "output_type": "execute_result"
    }
   ],
   "source": [
    "ae_loss = 'chamfer'  # Which distance to use for the matchings.\n",
    "\n",
    "if ae_loss == 'emd':\n",
    "    use_EMD = True\n",
    "else:\n",
    "    use_EMD = False  # Will use Chamfer instead.\n",
    "    \n",
    "batch_size = 100     # Find appropriate number that fits in GPU.\n",
    "normalize = False     # Matched distances are divided by the number of \n",
    "                      # points of thepoint-clouds.\n",
    "class_name"
   ]
  },
  {
   "cell_type": "code",
   "execution_count": 21,
   "metadata": {},
   "outputs": [
    {
     "name": "stderr",
     "output_type": "stream",
     "text": [
      "MMD-COV Loop: 100%|██████████| 662/662 [40:05<00:00,  3.63s/it]\n"
     ]
    }
   ],
   "source": [
    "from latent_3d_points.src.evaluation_metrics_fast import MMD_COV_EMD_CD\n",
    "mmd_emd, mmd_cd, cov_emd, cov_cd = MMD_COV_EMD_CD(\n",
    "    sample_pcs, ref_pcs, 32, normalize=normalize, verbose=True)\n"
   ]
  },
  {
   "cell_type": "code",
   "execution_count": 24,
   "metadata": {},
   "outputs": [
    {
     "name": "stdout",
     "output_type": "stream",
     "text": [
      "MMD-EMD:387.56354\n",
      "MMD-CD:24.056911\n",
      "COV-EMD:0.987915407855\n",
      "COV-CD:0.996978851964\n"
     ]
    }
   ],
   "source": [
    "\n",
    "print(\"MMD-EMD:%s\"%mmd_emd)\n",
    "print(\"MMD-CD:%s\"%mmd_cd)\n",
    "print(\"COV-EMD:%s\"%cov_emd)\n",
    "print(\"COV-CD:%s\"%cov_cd)\n"
   ]
  },
  {
   "cell_type": "code",
   "execution_count": 26,
   "metadata": {},
   "outputs": [
    {
     "data": {
      "text/plain": [
       "('chair', True)"
      ]
     },
     "execution_count": 26,
     "metadata": {},
     "output_type": "execute_result"
    }
   ],
   "source": [
    "class_name, normalize_shape"
   ]
  },
  {
   "cell_type": "code",
   "execution_count": null,
   "metadata": {},
   "outputs": [],
   "source": []
  }
 ],
 "metadata": {
  "kernelspec": {
   "display_name": "tfpy2.7",
   "language": "python",
   "name": "myenv"
  },
  "language_info": {
   "codemirror_mode": {
    "name": "ipython",
    "version": 2
   },
   "file_extension": ".py",
   "mimetype": "text/x-python",
   "name": "python",
   "nbconvert_exporter": "python",
   "pygments_lexer": "ipython2",
   "version": "2.7.15"
  }
 },
 "nbformat": 4,
 "nbformat_minor": 2
}
