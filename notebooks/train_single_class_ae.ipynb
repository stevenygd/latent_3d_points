{
 "cells": [
  {
   "cell_type": "markdown",
   "metadata": {},
   "source": [
    "## This notebook will help you train a vanilla Point-Cloud AE with the basic architecture we used in our paper.\n",
    "    (it assumes latent_3d_points is in the PYTHONPATH and the structural losses have been compiled)"
   ]
  },
  {
   "cell_type": "code",
   "execution_count": 1,
   "metadata": {},
   "outputs": [],
   "source": [
    "%matplotlib inline\n",
    "%load_ext autoreload\n",
    "%autoreload 2\n",
    "import sys\n",
    "sys.path.insert(0, \"/home/gy46/\")"
   ]
  },
  {
   "cell_type": "code",
   "execution_count": 2,
   "metadata": {},
   "outputs": [],
   "source": [
    "import sys\n",
    "sys.path.insert(0, \"/home/gy46/\")"
   ]
  },
  {
   "cell_type": "code",
   "execution_count": 3,
   "metadata": {},
   "outputs": [],
   "source": [
    "import os.path as osp\n",
    "\n",
    "from latent_3d_points.src.ae_templates import mlp_architecture_ala_iclr_18, default_train_params\n",
    "from latent_3d_points.src.autoencoder import Configuration as Conf\n",
    "from latent_3d_points.src.point_net_ae import PointNetAutoEncoder\n",
    "\n",
    "from latent_3d_points.src.in_out import snc_category_to_synth_id, create_dir, PointCloudDataSet, \\\n",
    "                                        load_all_point_clouds_under_folder\n",
    "\n",
    "from latent_3d_points.src.tf_utils import reset_tf_graph\n",
    "from latent_3d_points.src.general_utils import plot_3d_point_cloud"
   ]
  },
  {
   "cell_type": "markdown",
   "metadata": {},
   "source": [
    "Define Basic Parameters"
   ]
  },
  {
   "cell_type": "code",
   "execution_count": 4,
   "metadata": {},
   "outputs": [
    {
     "name": "stdout",
     "output_type": "stream",
     "text": [
      "shapenetcorev2_emd_ae_chair\n"
     ]
    }
   ],
   "source": [
    "top_out_dir = '../data/'                      # Use to save Neural-Net check-points etc.\n",
    "top_in_dir = '../data/ShapeNetCore.v2.PC15k/' # Top-dir of where point-clouds are stored.\n",
    "\n",
    "# experiment_name = 'single_class_ae_emd'\n",
    "n_pc_points = 2048                # Number of points per model.\n",
    "bneck_size = 128                  # Bottleneck-AE size\n",
    "# ae_loss = 'chamfer'                   # Loss to optimize: 'emd' or 'chamfer'\n",
    "ae_loss = 'emd'                   # Loss to optimize: 'emd' or 'chamfer'\n",
    "# class_name = raw_input('Give me the class name (e.g. \"chair\"): ').lower()\n",
    "# class_name = 'airplane'\n",
    "class_name = 'chair'\n",
    "experiment_name = 'shapenetcorev2_%s_ae_%s'%(ae_loss, class_name)\n",
    "print(experiment_name)"
   ]
  },
  {
   "cell_type": "markdown",
   "metadata": {},
   "source": [
    "Load Point-Clouds"
   ]
  },
  {
   "cell_type": "code",
   "execution_count": 5,
   "metadata": {},
   "outputs": [
    {
     "name": "stdout",
     "output_type": "stream",
     "text": [
      "03001627\n",
      "../data/ShapeNetCore.v2.PC15k/03001627/train\n"
     ]
    }
   ],
   "source": [
    "syn_id = snc_category_to_synth_id()[class_name]\n",
    "class_dir = osp.join(top_in_dir , syn_id, 'train')\n",
    "print(syn_id)\n",
    "print(class_dir)"
   ]
  },
  {
   "cell_type": "code",
   "execution_count": 6,
   "metadata": {},
   "outputs": [
    {
     "name": "stdout",
     "output_type": "stream",
     "text": [
      "4612 pclouds were loaded. They belong in 1 shape-classes.\n"
     ]
    }
   ],
   "source": [
    "all_pc_data = load_all_point_clouds_under_folder(\n",
    "    class_dir, n_threads=8, file_ending='.npy', max_num_points=2048, verbose=True, normalize=True)"
   ]
  },
  {
   "cell_type": "markdown",
   "metadata": {},
   "source": [
    "Load default training parameters (some of which are listed beloq). For more details please print the configuration object.\n",
    "\n",
    "    'batch_size': 50   \n",
    "    \n",
    "    'denoising': False     (# by default AE is not denoising)\n",
    "\n",
    "    'learning_rate': 0.0005\n",
    "\n",
    "    'z_rotate': False      (# randomly rotate models of each batch)\n",
    "    \n",
    "    'loss_display_step': 1 (# display loss at end of these many epochs)\n",
    "    'saver_step': 10       (# over how many epochs to save neural-network)"
   ]
  },
  {
   "cell_type": "code",
   "execution_count": 7,
   "metadata": {},
   "outputs": [],
   "source": [
    "train_params = default_train_params()"
   ]
  },
  {
   "cell_type": "code",
   "execution_count": 8,
   "metadata": {},
   "outputs": [],
   "source": [
    "encoder, decoder, enc_args, dec_args = mlp_architecture_ala_iclr_18(n_pc_points, bneck_size)\n",
    "train_dir = create_dir(osp.join(top_out_dir, experiment_name))"
   ]
  },
  {
   "cell_type": "code",
   "execution_count": 9,
   "metadata": {},
   "outputs": [],
   "source": [
    "conf = Conf(n_input = [n_pc_points, 3],\n",
    "            loss = ae_loss,\n",
    "            training_epochs = train_params['training_epochs'],\n",
    "            batch_size = train_params['batch_size'],\n",
    "            denoising = train_params['denoising'],\n",
    "            learning_rate = train_params['learning_rate'],\n",
    "            train_dir = train_dir,\n",
    "            loss_display_step = train_params['loss_display_step'],\n",
    "            saver_step = train_params['saver_step'],\n",
    "            z_rotate = train_params['z_rotate'],\n",
    "            encoder = encoder,\n",
    "            decoder = decoder,\n",
    "            encoder_args = enc_args,\n",
    "            decoder_args = dec_args\n",
    "           )\n",
    "conf.experiment_name = experiment_name\n",
    "conf.held_out_step = 5   # How often to evaluate/print out loss on \n",
    "                         # held_out data (if they are provided in ae.train() ).\n",
    "conf.save(osp.join(train_dir, 'configuration'))"
   ]
  },
  {
   "cell_type": "markdown",
   "metadata": {},
   "source": [
    "If you ran the above lines, you can reload a saved model like this:"
   ]
  },
  {
   "cell_type": "code",
   "execution_count": 10,
   "metadata": {},
   "outputs": [],
   "source": [
    "load_pre_trained_ae = False\n",
    "restore_epoch = 1000\n",
    "if load_pre_trained_ae:\n",
    "    conf = Conf.load(train_dir + '/configuration')\n",
    "    reset_tf_graph()\n",
    "    ae = PointNetAutoEncoder(conf.experiment_name, conf)\n",
    "    ae.restore_model(conf.train_dir, epoch=restore_epoch)"
   ]
  },
  {
   "cell_type": "markdown",
   "metadata": {},
   "source": [
    "Build AE Model."
   ]
  },
  {
   "cell_type": "code",
   "execution_count": 11,
   "metadata": {},
   "outputs": [
    {
     "name": "stdout",
     "output_type": "stream",
     "text": [
      "Building Encoder\n",
      "('encoder_conv_layer_0', 'conv params = ', 256)\n",
      "('bnorm params = ', 128)\n",
      "Tensor(\"shapenetcorev2_emd_ae_chair_2/Relu:0\", shape=(?, 2048, 64), dtype=float32)\n",
      "('output size:', 131072, '\\n')\n",
      "('encoder_conv_layer_1', 'conv params = ', 8320)\n",
      "('bnorm params = ', 256)\n",
      "Tensor(\"shapenetcorev2_emd_ae_chair_2/Relu_1:0\", shape=(?, 2048, 128), dtype=float32)\n",
      "('output size:', 262144, '\\n')\n",
      "('encoder_conv_layer_2', 'conv params = ', 16512)\n",
      "('bnorm params = ', 256)\n",
      "Tensor(\"shapenetcorev2_emd_ae_chair_2/Relu_2:0\", shape=(?, 2048, 128), dtype=float32)\n",
      "('output size:', 262144, '\\n')\n",
      "('encoder_conv_layer_3', 'conv params = ', 33024)\n",
      "('bnorm params = ', 512)\n",
      "Tensor(\"shapenetcorev2_emd_ae_chair_2/Relu_3:0\", shape=(?, 2048, 256), dtype=float32)\n",
      "('output size:', 524288, '\\n')\n",
      "('encoder_conv_layer_4', 'conv params = ', 32896)\n",
      "('bnorm params = ', 256)\n",
      "Tensor(\"shapenetcorev2_emd_ae_chair_2/Relu_4:0\", shape=(?, 2048, 128), dtype=float32)\n",
      "('output size:', 262144, '\\n')\n",
      "Tensor(\"shapenetcorev2_emd_ae_chair_2/Max:0\", shape=(?, 128), dtype=float32)\n",
      "Building Decoder\n",
      "('decoder_fc_0', 'FC params = ', 33024)\n",
      "Tensor(\"shapenetcorev2_emd_ae_chair_2/Relu_5:0\", shape=(?, 256), dtype=float32)\n",
      "('output size:', 256, '\\n')\n",
      "('decoder_fc_1', 'FC params = ', 65792)\n",
      "Tensor(\"shapenetcorev2_emd_ae_chair_2/Relu_6:0\", shape=(?, 256), dtype=float32)\n",
      "('output size:', 256, '\\n')\n",
      "('decoder_fc_2', 'FC params = ', 1579008)\n",
      "Tensor(\"shapenetcorev2_emd_ae_chair_2/decoder_fc_2/BiasAdd:0\", shape=(?, 6144), dtype=float32)\n",
      "('output size:', 6144, '\\n')\n"
     ]
    }
   ],
   "source": [
    "reset_tf_graph()\n",
    "ae = PointNetAutoEncoder(conf.experiment_name, conf)"
   ]
  },
  {
   "cell_type": "markdown",
   "metadata": {},
   "source": [
    "Train the AE (save output to train_stats.txt) "
   ]
  },
  {
   "cell_type": "code",
   "execution_count": null,
   "metadata": {
    "scrolled": false
   },
   "outputs": [
    {
     "name": "stdout",
     "output_type": "stream",
     "text": [
      "('Epoch:', '0001', 'training time (minutes)=', '0.2526', 'loss=', '0.495435009')\n",
      "INFO:tensorflow:../data/shapenetcorev2_emd_ae_chair/models.ckpt-1 is not in all_model_checkpoint_paths. Manually adding it.\n",
      "('Epoch:', '0002', 'training time (minutes)=', '0.2505', 'loss=', '0.371383400')\n",
      "('Epoch:', '0003', 'training time (minutes)=', '0.2513', 'loss=', '0.346661607')\n",
      "('Epoch:', '0004', 'training time (minutes)=', '0.2541', 'loss=', '0.331389680')\n",
      "('Epoch:', '0005', 'training time (minutes)=', '0.2586', 'loss=', '0.323597168')\n",
      "('Epoch:', '0006', 'training time (minutes)=', '0.2574', 'loss=', '0.317598392')\n",
      "('Epoch:', '0007', 'training time (minutes)=', '0.2575', 'loss=', '0.310558008')\n",
      "('Epoch:', '0008', 'training time (minutes)=', '0.2586', 'loss=', '0.304355998')\n",
      "('Epoch:', '0009', 'training time (minutes)=', '0.2575', 'loss=', '0.303986461')\n",
      "('Epoch:', '0010', 'training time (minutes)=', '0.2566', 'loss=', '0.301677753')\n",
      "INFO:tensorflow:../data/shapenetcorev2_emd_ae_chair/models.ckpt-10 is not in all_model_checkpoint_paths. Manually adding it.\n",
      "('Epoch:', '0011', 'training time (minutes)=', '0.2590', 'loss=', '0.297872907')\n",
      "('Epoch:', '0012', 'training time (minutes)=', '0.2562', 'loss=', '0.294192221')\n",
      "('Epoch:', '0013', 'training time (minutes)=', '0.2619', 'loss=', '0.290160702')\n",
      "('Epoch:', '0014', 'training time (minutes)=', '0.2551', 'loss=', '0.287591529')\n",
      "('Epoch:', '0015', 'training time (minutes)=', '0.2565', 'loss=', '0.288324508')\n",
      "('Epoch:', '0016', 'training time (minutes)=', '0.2557', 'loss=', '0.286335808')\n",
      "('Epoch:', '0017', 'training time (minutes)=', '0.2560', 'loss=', '0.284214627')\n",
      "('Epoch:', '0018', 'training time (minutes)=', '0.2568', 'loss=', '0.283899075')\n",
      "('Epoch:', '0019', 'training time (minutes)=', '0.2553', 'loss=', '0.281427296')\n",
      "('Epoch:', '0020', 'training time (minutes)=', '0.2557', 'loss=', '0.278358492')\n",
      "INFO:tensorflow:../data/shapenetcorev2_emd_ae_chair/models.ckpt-20 is not in all_model_checkpoint_paths. Manually adding it.\n",
      "('Epoch:', '0021', 'training time (minutes)=', '0.2595', 'loss=', '0.279215103')\n",
      "('Epoch:', '0022', 'training time (minutes)=', '0.2548', 'loss=', '0.276332831')\n",
      "('Epoch:', '0023', 'training time (minutes)=', '0.2599', 'loss=', '0.275623442')\n",
      "('Epoch:', '0024', 'training time (minutes)=', '0.2563', 'loss=', '0.274576404')\n",
      "('Epoch:', '0025', 'training time (minutes)=', '0.2549', 'loss=', '0.272644659')\n",
      "('Epoch:', '0026', 'training time (minutes)=', '0.2561', 'loss=', '0.272449013')\n",
      "('Epoch:', '0027', 'training time (minutes)=', '0.2588', 'loss=', '0.271208164')\n",
      "('Epoch:', '0028', 'training time (minutes)=', '0.2542', 'loss=', '0.271107574')\n",
      "('Epoch:', '0029', 'training time (minutes)=', '0.2547', 'loss=', '0.272330452')\n",
      "('Epoch:', '0030', 'training time (minutes)=', '0.2578', 'loss=', '0.270635194')\n",
      "INFO:tensorflow:../data/shapenetcorev2_emd_ae_chair/models.ckpt-30 is not in all_model_checkpoint_paths. Manually adding it.\n",
      "('Epoch:', '0031', 'training time (minutes)=', '0.2571', 'loss=', '0.268734190')\n",
      "('Epoch:', '0032', 'training time (minutes)=', '0.2540', 'loss=', '0.267005525')\n",
      "('Epoch:', '0033', 'training time (minutes)=', '0.2550', 'loss=', '0.266152313')\n",
      "('Epoch:', '0034', 'training time (minutes)=', '0.2557', 'loss=', '0.268278793')\n",
      "('Epoch:', '0035', 'training time (minutes)=', '0.2549', 'loss=', '0.267264519')\n",
      "('Epoch:', '0036', 'training time (minutes)=', '0.2615', 'loss=', '0.265321825')\n",
      "('Epoch:', '0037', 'training time (minutes)=', '0.2546', 'loss=', '0.265019168')\n",
      "('Epoch:', '0038', 'training time (minutes)=', '0.2548', 'loss=', '0.264353627')\n",
      "('Epoch:', '0039', 'training time (minutes)=', '0.2560', 'loss=', '0.264407536')\n",
      "('Epoch:', '0040', 'training time (minutes)=', '0.2548', 'loss=', '0.262473995')\n",
      "INFO:tensorflow:../data/shapenetcorev2_emd_ae_chair/models.ckpt-40 is not in all_model_checkpoint_paths. Manually adding it.\n",
      "('Epoch:', '0041', 'training time (minutes)=', '0.2566', 'loss=', '0.265940485')\n",
      "('Epoch:', '0042', 'training time (minutes)=', '0.2577', 'loss=', '0.262331936')\n",
      "('Epoch:', '0043', 'training time (minutes)=', '0.2561', 'loss=', '0.263750715')\n",
      "('Epoch:', '0044', 'training time (minutes)=', '0.2543', 'loss=', '0.259546156')\n",
      "('Epoch:', '0045', 'training time (minutes)=', '0.2581', 'loss=', '0.259108594')\n",
      "('Epoch:', '0046', 'training time (minutes)=', '0.2612', 'loss=', '0.261232056')\n",
      "('Epoch:', '0047', 'training time (minutes)=', '0.2548', 'loss=', '0.261919555')\n",
      "('Epoch:', '0048', 'training time (minutes)=', '0.2609', 'loss=', '0.259553731')\n",
      "('Epoch:', '0049', 'training time (minutes)=', '0.2565', 'loss=', '0.257888131')\n",
      "('Epoch:', '0050', 'training time (minutes)=', '0.2535', 'loss=', '0.259834229')\n",
      "INFO:tensorflow:../data/shapenetcorev2_emd_ae_chair/models.ckpt-50 is not in all_model_checkpoint_paths. Manually adding it.\n",
      "('Epoch:', '0051', 'training time (minutes)=', '0.2590', 'loss=', '0.256574415')\n",
      "('Epoch:', '0052', 'training time (minutes)=', '0.2539', 'loss=', '0.257871429')\n",
      "('Epoch:', '0053', 'training time (minutes)=', '0.2554', 'loss=', '0.255994680')\n",
      "('Epoch:', '0054', 'training time (minutes)=', '0.2560', 'loss=', '0.255946483')\n",
      "('Epoch:', '0055', 'training time (minutes)=', '0.2544', 'loss=', '0.254776283')\n",
      "('Epoch:', '0056', 'training time (minutes)=', '0.2576', 'loss=', '0.255551820')\n",
      "('Epoch:', '0057', 'training time (minutes)=', '0.2545', 'loss=', '0.255477909')\n",
      "('Epoch:', '0058', 'training time (minutes)=', '0.2585', 'loss=', '0.254476728')\n",
      "('Epoch:', '0059', 'training time (minutes)=', '0.2550', 'loss=', '0.255563200')\n",
      "('Epoch:', '0060', 'training time (minutes)=', '0.2565', 'loss=', '0.253988096')\n",
      "INFO:tensorflow:../data/shapenetcorev2_emd_ae_chair/models.ckpt-60 is not in all_model_checkpoint_paths. Manually adding it.\n",
      "('Epoch:', '0061', 'training time (minutes)=', '0.2550', 'loss=', '0.254821418')\n",
      "('Epoch:', '0062', 'training time (minutes)=', '0.2638', 'loss=', '0.256395578')\n",
      "('Epoch:', '0063', 'training time (minutes)=', '0.2559', 'loss=', '0.253732434')\n",
      "('Epoch:', '0064', 'training time (minutes)=', '0.2564', 'loss=', '0.253072003')\n",
      "('Epoch:', '0065', 'training time (minutes)=', '0.2537', 'loss=', '0.251783729')\n",
      "('Epoch:', '0066', 'training time (minutes)=', '0.2551', 'loss=', '0.252636530')\n",
      "('Epoch:', '0067', 'training time (minutes)=', '0.2561', 'loss=', '0.252001147')\n",
      "('Epoch:', '0068', 'training time (minutes)=', '0.2558', 'loss=', '0.251570177')\n",
      "('Epoch:', '0069', 'training time (minutes)=', '0.2569', 'loss=', '0.249762526')\n",
      "('Epoch:', '0070', 'training time (minutes)=', '0.2552', 'loss=', '0.249839618')\n",
      "INFO:tensorflow:../data/shapenetcorev2_emd_ae_chair/models.ckpt-70 is not in all_model_checkpoint_paths. Manually adding it.\n",
      "('Epoch:', '0071', 'training time (minutes)=', '0.2610', 'loss=', '0.249747872')\n",
      "('Epoch:', '0072', 'training time (minutes)=', '0.2548', 'loss=', '0.252117415')\n",
      "('Epoch:', '0073', 'training time (minutes)=', '0.2562', 'loss=', '0.249427915')\n",
      "('Epoch:', '0074', 'training time (minutes)=', '0.2547', 'loss=', '0.248472113')\n",
      "('Epoch:', '0075', 'training time (minutes)=', '0.2557', 'loss=', '0.247167031')\n",
      "('Epoch:', '0076', 'training time (minutes)=', '0.2552', 'loss=', '0.247873187')\n",
      "('Epoch:', '0077', 'training time (minutes)=', '0.2570', 'loss=', '0.248205912')\n",
      "('Epoch:', '0078', 'training time (minutes)=', '0.2548', 'loss=', '0.250152163')\n",
      "('Epoch:', '0079', 'training time (minutes)=', '0.2579', 'loss=', '0.249060233')\n",
      "('Epoch:', '0080', 'training time (minutes)=', '0.2594', 'loss=', '0.249741607')\n",
      "INFO:tensorflow:../data/shapenetcorev2_emd_ae_chair/models.ckpt-80 is not in all_model_checkpoint_paths. Manually adding it.\n",
      "('Epoch:', '0081', 'training time (minutes)=', '0.2587', 'loss=', '0.247363256')\n",
      "('Epoch:', '0082', 'training time (minutes)=', '0.2542', 'loss=', '0.247437656')\n",
      "('Epoch:', '0083', 'training time (minutes)=', '0.2586', 'loss=', '0.248338076')\n",
      "('Epoch:', '0084', 'training time (minutes)=', '0.2551', 'loss=', '0.247208737')\n",
      "('Epoch:', '0085', 'training time (minutes)=', '0.2539', 'loss=', '0.245531007')\n",
      "('Epoch:', '0086', 'training time (minutes)=', '0.2550', 'loss=', '0.249250077')\n",
      "('Epoch:', '0087', 'training time (minutes)=', '0.2558', 'loss=', '0.246759760')\n",
      "('Epoch:', '0088', 'training time (minutes)=', '0.2579', 'loss=', '0.246489728')\n"
     ]
    },
    {
     "name": "stdout",
     "output_type": "stream",
     "text": [
      "('Epoch:', '0089', 'training time (minutes)=', '0.2557', 'loss=', '0.245389926')\n",
      "('Epoch:', '0090', 'training time (minutes)=', '0.2593', 'loss=', '0.245260024')\n",
      "INFO:tensorflow:../data/shapenetcorev2_emd_ae_chair/models.ckpt-90 is not in all_model_checkpoint_paths. Manually adding it.\n",
      "('Epoch:', '0091', 'training time (minutes)=', '0.2539', 'loss=', '0.245812745')\n",
      "('Epoch:', '0092', 'training time (minutes)=', '0.2548', 'loss=', '0.246069302')\n",
      "('Epoch:', '0093', 'training time (minutes)=', '0.2565', 'loss=', '0.244949653')\n",
      "('Epoch:', '0094', 'training time (minutes)=', '0.2576', 'loss=', '0.244025043')\n",
      "('Epoch:', '0095', 'training time (minutes)=', '0.2543', 'loss=', '0.245388958')\n",
      "('Epoch:', '0096', 'training time (minutes)=', '0.2594', 'loss=', '0.244997187')\n",
      "('Epoch:', '0097', 'training time (minutes)=', '0.2594', 'loss=', '0.244544880')\n",
      "('Epoch:', '0098', 'training time (minutes)=', '0.2603', 'loss=', '0.244159862')\n",
      "('Epoch:', '0099', 'training time (minutes)=', '0.2546', 'loss=', '0.243752836')\n",
      "('Epoch:', '0100', 'training time (minutes)=', '0.2550', 'loss=', '0.242769982')\n",
      "INFO:tensorflow:../data/shapenetcorev2_emd_ae_chair/models.ckpt-100 is not in all_model_checkpoint_paths. Manually adding it.\n",
      "('Epoch:', '0101', 'training time (minutes)=', '0.2571', 'loss=', '0.242936770')\n",
      "('Epoch:', '0102', 'training time (minutes)=', '0.2547', 'loss=', '0.241229600')\n",
      "('Epoch:', '0103', 'training time (minutes)=', '0.2571', 'loss=', '0.243962970')\n",
      "('Epoch:', '0104', 'training time (minutes)=', '0.2564', 'loss=', '0.242291540')\n",
      "('Epoch:', '0105', 'training time (minutes)=', '0.2547', 'loss=', '0.242292754')\n",
      "('Epoch:', '0106', 'training time (minutes)=', '0.2553', 'loss=', '0.242905646')\n",
      "('Epoch:', '0107', 'training time (minutes)=', '0.2585', 'loss=', '0.241150467')\n",
      "('Epoch:', '0108', 'training time (minutes)=', '0.2554', 'loss=', '0.241573577')\n",
      "('Epoch:', '0109', 'training time (minutes)=', '0.2545', 'loss=', '0.242526284')\n",
      "('Epoch:', '0110', 'training time (minutes)=', '0.2565', 'loss=', '0.240827132')\n",
      "INFO:tensorflow:../data/shapenetcorev2_emd_ae_chair/models.ckpt-110 is not in all_model_checkpoint_paths. Manually adding it.\n",
      "('Epoch:', '0111', 'training time (minutes)=', '0.2558', 'loss=', '0.242357197')\n",
      "('Epoch:', '0112', 'training time (minutes)=', '0.2554', 'loss=', '0.242631973')\n",
      "('Epoch:', '0113', 'training time (minutes)=', '0.2555', 'loss=', '0.240537841')\n",
      "('Epoch:', '0114', 'training time (minutes)=', '0.2578', 'loss=', '0.241325414')\n",
      "('Epoch:', '0115', 'training time (minutes)=', '0.2575', 'loss=', '0.242109232')\n",
      "('Epoch:', '0116', 'training time (minutes)=', '0.2586', 'loss=', '0.239325679')\n",
      "('Epoch:', '0117', 'training time (minutes)=', '0.2568', 'loss=', '0.239519923')\n",
      "('Epoch:', '0118', 'training time (minutes)=', '0.2556', 'loss=', '0.240082268')\n",
      "('Epoch:', '0119', 'training time (minutes)=', '0.2555', 'loss=', '0.239273016')\n",
      "('Epoch:', '0120', 'training time (minutes)=', '0.2561', 'loss=', '0.240942311')\n",
      "INFO:tensorflow:../data/shapenetcorev2_emd_ae_chair/models.ckpt-120 is not in all_model_checkpoint_paths. Manually adding it.\n",
      "('Epoch:', '0121', 'training time (minutes)=', '0.2576', 'loss=', '0.239634267')\n",
      "('Epoch:', '0122', 'training time (minutes)=', '0.2558', 'loss=', '0.238784985')\n",
      "('Epoch:', '0123', 'training time (minutes)=', '0.2559', 'loss=', '0.238331025')\n",
      "('Epoch:', '0124', 'training time (minutes)=', '0.2603', 'loss=', '0.238392112')\n",
      "('Epoch:', '0125', 'training time (minutes)=', '0.2546', 'loss=', '0.237951477')\n",
      "('Epoch:', '0126', 'training time (minutes)=', '0.2554', 'loss=', '0.238350062')\n",
      "('Epoch:', '0127', 'training time (minutes)=', '0.2558', 'loss=', '0.238520433')\n",
      "('Epoch:', '0128', 'training time (minutes)=', '0.2556', 'loss=', '0.238050500')\n",
      "('Epoch:', '0129', 'training time (minutes)=', '0.2575', 'loss=', '0.237892900')\n",
      "('Epoch:', '0130', 'training time (minutes)=', '0.2605', 'loss=', '0.239609267')\n",
      "INFO:tensorflow:../data/shapenetcorev2_emd_ae_chair/models.ckpt-130 is not in all_model_checkpoint_paths. Manually adding it.\n",
      "('Epoch:', '0131', 'training time (minutes)=', '0.2592', 'loss=', '0.237477994')\n",
      "('Epoch:', '0132', 'training time (minutes)=', '0.2585', 'loss=', '0.237437214')\n",
      "('Epoch:', '0133', 'training time (minutes)=', '0.2568', 'loss=', '0.237022781')\n",
      "('Epoch:', '0134', 'training time (minutes)=', '0.2546', 'loss=', '0.236783564')\n",
      "('Epoch:', '0135', 'training time (minutes)=', '0.2542', 'loss=', '0.236025423')\n",
      "('Epoch:', '0136', 'training time (minutes)=', '0.2600', 'loss=', '0.237941234')\n",
      "('Epoch:', '0137', 'training time (minutes)=', '0.3375', 'loss=', '0.237102975')\n",
      "('Epoch:', '0138', 'training time (minutes)=', '0.3352', 'loss=', '0.237239059')\n",
      "('Epoch:', '0139', 'training time (minutes)=', '0.3361', 'loss=', '0.236830032')\n",
      "('Epoch:', '0140', 'training time (minutes)=', '0.3374', 'loss=', '0.238786953')\n",
      "INFO:tensorflow:../data/shapenetcorev2_emd_ae_chair/models.ckpt-140 is not in all_model_checkpoint_paths. Manually adding it.\n",
      "('Epoch:', '0141', 'training time (minutes)=', '0.3368', 'loss=', '0.236726058')\n",
      "('Epoch:', '0142', 'training time (minutes)=', '0.3390', 'loss=', '0.235953358')\n",
      "('Epoch:', '0143', 'training time (minutes)=', '0.3347', 'loss=', '0.238026711')\n",
      "('Epoch:', '0144', 'training time (minutes)=', '0.3356', 'loss=', '0.235519189')\n",
      "('Epoch:', '0145', 'training time (minutes)=', '0.3385', 'loss=', '0.236446100')\n",
      "('Epoch:', '0146', 'training time (minutes)=', '0.3407', 'loss=', '0.234385986')\n",
      "('Epoch:', '0147', 'training time (minutes)=', '0.3382', 'loss=', '0.235096660')\n",
      "('Epoch:', '0148', 'training time (minutes)=', '0.3330', 'loss=', '0.235541413')\n",
      "('Epoch:', '0149', 'training time (minutes)=', '0.3399', 'loss=', '0.234580871')\n",
      "('Epoch:', '0150', 'training time (minutes)=', '0.3488', 'loss=', '0.234258318')\n",
      "INFO:tensorflow:../data/shapenetcorev2_emd_ae_chair/models.ckpt-150 is not in all_model_checkpoint_paths. Manually adding it.\n",
      "('Epoch:', '0151', 'training time (minutes)=', '0.3435', 'loss=', '0.234583061')\n",
      "('Epoch:', '0152', 'training time (minutes)=', '0.3402', 'loss=', '0.235316630')\n",
      "('Epoch:', '0153', 'training time (minutes)=', '0.3369', 'loss=', '0.234352239')\n"
     ]
    }
   ],
   "source": [
    "buf_size = 1 # Make 'training_stats' file to flush each output line regarding training.\n",
    "fout = open(osp.join(conf.train_dir, 'train_stats.txt'), 'a', buf_size)\n",
    "train_stats = ae.train(all_pc_data, conf, log_file=fout)\n",
    "fout.close()"
   ]
  },
  {
   "cell_type": "markdown",
   "metadata": {},
   "source": [
    "Get a batch of reconstuctions and their latent-codes."
   ]
  },
  {
   "cell_type": "code",
   "execution_count": null,
   "metadata": {},
   "outputs": [],
   "source": [
    "syn_id = snc_category_to_synth_id()[class_name]\n",
    "class_dir = osp.join(top_in_dir , syn_id, 'val')\n",
    "print(syn_id)\n",
    "print(class_dir)\n",
    "all_pc_data = load_all_point_clouds_under_folder(\n",
    "    class_dir, n_threads=8, file_ending='.npy', max_num_points=2048, verbose=True, normalize=True)"
   ]
  },
  {
   "cell_type": "code",
   "execution_count": null,
   "metadata": {},
   "outputs": [],
   "source": [
    "feed_pc, feed_model_names, _ = all_pc_data.next_batch(10)\n",
    "reconstructions = ae.reconstruct(feed_pc)[0]\n",
    "latent_codes = ae.transform(feed_pc)"
   ]
  },
  {
   "cell_type": "markdown",
   "metadata": {
    "collapsed": true
   },
   "source": [
    "Use any plotting mechanism such as matplotlib to visualize the results."
   ]
  },
  {
   "cell_type": "code",
   "execution_count": null,
   "metadata": {},
   "outputs": [],
   "source": [
    "from mpl_toolkits.mplot3d import Axes3D\n",
    "import matplotlib.pyplot as plt\n",
    "def plot_point_cloud(xs, ys, zs, s=1):\n",
    "    fig = plt.figure(figsize=(5,5))\n",
    "    ax = fig.add_subplot(111, projection='3d')\n",
    "    ax.scatter(xs, ys, zs, s=s)\n",
    "    plt.show()\n"
   ]
  },
  {
   "cell_type": "code",
   "execution_count": null,
   "metadata": {
    "scrolled": true
   },
   "outputs": [],
   "source": [
    "import random\n",
    "# i = random.choice(range(reconstructions.shape[0]))\n",
    "for i in range(reconstructions.shape[0]):\n",
    "    print(\"Recon\")\n",
    "    plot_point_cloud(reconstructions[i][:, 0], reconstructions[i][:, 2], \n",
    "                     reconstructions[i][:, 1]);\n",
    "    print(\"Gtrs\")\n",
    "    plot_point_cloud(feed_pc[i][:, 0], feed_pc[i][:, 2], feed_pc[i][:, 1]);\n"
   ]
  },
  {
   "cell_type": "markdown",
   "metadata": {},
   "source": [
    "# (Deprecated) Generate the latent codes for train/test/val sets"
   ]
  },
  {
   "cell_type": "code",
   "execution_count": null,
   "metadata": {
    "scrolled": true
   },
   "outputs": [],
   "source": [
    "# Data Loader that takes a list of file names\n",
    "import os\n",
    "import numpy as np\n",
    "from tqdm import tqdm as tqdm\n",
    "from torch.utils.data import Dataset, DataLoader\n",
    "from latent_3d_points.src.in_out import snc_synth_id_to_category\n",
    "cate_to_synsetid = {v:k for k,v in snc_synth_id_to_category.items()}\n",
    "\n",
    "class Uniform15KPC(Dataset):\n",
    "\n",
    "    def __init__(self, root_dir, subdirs, sample_size=2048, split='train'):\n",
    "        self.root_dir = root_dir\n",
    "        self.split = split\n",
    "        self.sample_size = sample_size\n",
    "        self.subdirs = subdirs\n",
    "\n",
    "        self.stats = []\n",
    "        self.train_points = []\n",
    "        self.test_points  = []\n",
    "        for subd in tqdm(self.subdirs, desc='Subdirectories', leave=True):\n",
    "            sub_path = os.path.join(root_dir, subd, self.split)\n",
    "            for x in tqdm(os.listdir(sub_path), desc='shapes', leave=False):\n",
    "                if not x.endswith('.npy'):\n",
    "                    continue\n",
    "\n",
    "                obj_fname = os.path.join(sub_path, x)\n",
    "                try:\n",
    "                    point_cloud = np.load(obj_fname) # (15k, 3)\n",
    "                except Exception as e:\n",
    "                    print(\"Exception encountered loading :%s\"%obj_fname)\n",
    "                    print(e)\n",
    "                    continue\n",
    "                assert point_cloud.shape[0] == 15000\n",
    "                tr_pc = point_cloud[:10000, [0,2,1]]\n",
    "                te_pc = point_cloud[10000:, [0,2,1]]\n",
    "                m = point_cloud.reshape(15000,3).mean(axis=0).reshape(1,1,3)\n",
    "                s = point_cloud.reshape(15000*3).std().reshape(1,1,1)\n",
    "                self.stats.append((m, s))\n",
    "                \n",
    "                self.train_points.append((tr_pc[np.newaxis,...] - m)/s)\n",
    "                self.test_points.append((te_pc[np.newaxis,...] - m)/s)\n",
    "                \n",
    "\n",
    "        self.tr_sample_size = min(10000, sample_size)\n",
    "        self.te_sample_size = min(5000, sample_size)\n",
    "        print(\"Total number of data:%d\"%len(self.train_points))\n",
    "        print(\"Min number of points: (train)%d (test)%d\"\\\n",
    "              %(self.tr_sample_size, self.te_sample_size))\n",
    "        \n",
    "        \n",
    "\n",
    "    def __len__(self):\n",
    "        return len(self.train_points)\n",
    "\n",
    "    def __getitem__(self, idx):\n",
    "        tr_out = self.train_points[idx]\n",
    "        tr_idxs = np.random.choice(tr_out.shape[1], self.tr_sample_size)\n",
    "        tr_out = tr_out[0,tr_idxs,:]\n",
    "\n",
    "        te_out = self.test_points[idx]\n",
    "        te_idxs = np.random.choice(te_out.shape[1], self.te_sample_size)\n",
    "        te_out = te_out[0,te_idxs,:]\n",
    "\n",
    "        return tr_out, te_out\n",
    "\n",
    "    \n",
    "\n",
    "class ShapeNet15kPointClouds(Uniform15KPC):\n",
    "\n",
    "    def __init__(self, root_dir=\"../data/ShapeNetV1PCOutput\",\n",
    "                 categories=['airplane'], sample_size=2048, split='train'):\n",
    "        self.root_dir = root_dir\n",
    "        self.split = split\n",
    "        assert self.split in ['train', 'test', 'val']\n",
    "        self.sample_size = sample_size\n",
    "        self.cates = categories\n",
    "        self.synset_ids = [cate_to_synsetid[c] for c in self.cates]\n",
    "        super(ShapeNet15kPointClouds, self).__init__(root_dir, self.synset_ids, sample_size=sample_size, split=split)\n",
    "\n",
    "batch_size=128\n",
    "tr_ds = ShapeNet15kPointClouds(categories=[class_name], split='train')\n",
    "tr_loader = DataLoader(dataset=tr_ds, batch_size=batch_size,\n",
    "                       shuffle=False, num_workers=4, drop_last=False)\n",
    "print(len(tr_loader))\n",
    "val_ds = ShapeNet15kPointClouds(categories=[class_name], split='val')\n",
    "val_loader = DataLoader(dataset=val_ds, batch_size=batch_size,\n",
    "                        shuffle=False, num_workers=4, drop_last=False)\n",
    "print(len(val_loader))\n",
    "te_ds = ShapeNet15kPointClouds(categories=[class_name], split='test')\n",
    "te_loader = DataLoader(dataset=te_ds, batch_size=batch_size,\n",
    "                       shuffle=False, num_workers=4, drop_last=False)\n",
    "print(len(te_loader))"
   ]
  },
  {
   "cell_type": "code",
   "execution_count": null,
   "metadata": {},
   "outputs": [],
   "source": [
    "def save(loader, split):\n",
    "    all_tr_latents = []\n",
    "    all_te_latents = []\n",
    "    all_tr = []\n",
    "    all_te = []\n",
    "    for tr_pc, te_pc in tqdm(loader):\n",
    "        tr_pc_latent = ae.transform(tr_pc)\n",
    "        te_pc_latent = ae.transform(te_pc)\n",
    "        all_tr_latents.append(tr_pc_latent)\n",
    "        all_te_latents.append(te_pc_latent)\n",
    "        all_tr.append(tr_pc)\n",
    "        all_te.append(te_pc)\n",
    "\n",
    "    print(len(all_tr_latents), len(all_te_latents))\n",
    "    all_tr_latents = np.concatenate(all_tr_latents)\n",
    "    all_te_latents = np.concatenate(all_te_latents)\n",
    "    all_tr = np.concatenate(all_tr)\n",
    "    all_te = np.concatenate(all_te)\n",
    "    print(all_tr_latents.shape)\n",
    "    print(all_te_latents.shape)\n",
    "    tr_latent_save_dir = \"../data/ShapeNetV1PCOutput_latent/%s/%s_%s_latent_tr.npy\"\\\n",
    "                         %(cate_to_synsetid[class_name], split, ae_loss)\n",
    "    te_latent_save_dir = \"../data/ShapeNetV1PCOutput_latent/%s/%s_%s_latent_te.npy\"\\\n",
    "                         %(cate_to_synsetid[class_name], split, ae_loss)\n",
    "    tr_pc_save_dir = \"../data/ShapeNetV1PCOutput_latent/%s/%s_%s_pc_tr.npy\"\\\n",
    "                     %(cate_to_synsetid[class_name], split, ae_loss)\n",
    "    te_pc_save_dir = \"../data/ShapeNetV1PCOutput_latent/%s/%s_%s_pc_te.npy\"\\\n",
    "                     %(cate_to_synsetid[class_name], split, ae_loss)\n",
    "    print(tr_latent_save_dir)\n",
    "    print(te_latent_save_dir)\n",
    "    print(tr_pc_save_dir)\n",
    "    print(te_pc_save_dir)\n",
    "    np.save(tr_latent_save_dir, all_tr_latents)\n",
    "    np.save(te_latent_save_dir, all_te_latents)\n",
    "    np.save(tr_pc_save_dir, all_tr)\n",
    "    np.save(te_pc_save_dir, all_te)\n",
    "    \n",
    "save(tr_loader, 'train')\n",
    "save(val_loader, 'val')\n",
    "save(te_loader, 'test')"
   ]
  },
  {
   "cell_type": "markdown",
   "metadata": {},
   "source": [
    "# Evaluate the model"
   ]
  },
  {
   "cell_type": "code",
   "execution_count": null,
   "metadata": {},
   "outputs": [],
   "source": [
    "syn_id = snc_category_to_synth_id()[class_name]\n",
    "class_dir = osp.join(top_in_dir , syn_id, 'val')\n",
    "print(syn_id)\n",
    "print(class_dir)\n",
    "all_pc_data = load_all_point_clouds_under_folder(\n",
    "    class_dir, n_threads=8, file_ending='.npy', max_num_points=2048, verbose=True, normalize=True)"
   ]
  },
  {
   "cell_type": "code",
   "execution_count": null,
   "metadata": {},
   "outputs": [],
   "source": [
    "feed_pc, _, _ = all_pc_data.full_epoch_data()\n",
    "feed_pc_tr_all = feed_pc[:, :n_pc_points]\n",
    "feed_pc_te_all = feed_pc[:, -n_pc_points:]\n",
    "print(feed_pc_tr_all.shape)\n",
    "print(feed_pc_te_all.shape)"
   ]
  },
  {
   "cell_type": "code",
   "execution_count": null,
   "metadata": {},
   "outputs": [],
   "source": [
    "all_sample = []\n",
    "all_ref = []\n",
    "for i in range(feed_pc_tr_all.shape[0]):\n",
    "    feed_pc_tr = feed_pc_tr_all[i:i+1]\n",
    "    feed_pc_te = feed_pc_te_all[i:i+1]\n",
    "    reconstructions = ae.reconstruct(feed_pc_tr)[0]\n",
    "    all_sample.append(reconstructions)\n",
    "    all_ref.append(feed_pc_te)\n",
    "\n",
    "all_sample = np.concatenate(all_sample)\n",
    "all_ref = np.concatenate(all_ref)\n",
    "all_sample.shape, all_ref.shape"
   ]
  },
  {
   "cell_type": "code",
   "execution_count": null,
   "metadata": {},
   "outputs": [],
   "source": [
    "from latent_3d_points.src.evaluation_metrics_fast import MMD_COV_EMD_CD\n",
    "mmd_emd, mmd_cd, cov_emd, cov_cd = MMD_COV_EMD_CD(all_sample, all_ref, 100, verbose=True)\n"
   ]
  },
  {
   "cell_type": "code",
   "execution_count": null,
   "metadata": {},
   "outputs": [],
   "source": [
    "print(experiment_name)\n",
    "print(\"MMD-EMD:%s\"%mmd_emd)\n",
    "print(\"MMD-CD:%s\"%mmd_cd)\n",
    "# print(\"COV-EMD:%s\"%cov_emd)\n",
    "# print(\"COV-CD:%s\"%cov_cd)"
   ]
  },
  {
   "cell_type": "code",
   "execution_count": null,
   "metadata": {},
   "outputs": [],
   "source": []
  },
  {
   "cell_type": "code",
   "execution_count": null,
   "metadata": {},
   "outputs": [],
   "source": []
  },
  {
   "cell_type": "code",
   "execution_count": null,
   "metadata": {},
   "outputs": [],
   "source": []
  },
  {
   "cell_type": "code",
   "execution_count": null,
   "metadata": {},
   "outputs": [],
   "source": []
  }
 ],
 "metadata": {
  "kernelspec": {
   "display_name": "tfpy2.7",
   "language": "python",
   "name": "myenv"
  },
  "language_info": {
   "codemirror_mode": {
    "name": "ipython",
    "version": 2
   },
   "file_extension": ".py",
   "mimetype": "text/x-python",
   "name": "python",
   "nbconvert_exporter": "python",
   "pygments_lexer": "ipython2",
   "version": "2.7.15"
  }
 },
 "nbformat": 4,
 "nbformat_minor": 2
}
